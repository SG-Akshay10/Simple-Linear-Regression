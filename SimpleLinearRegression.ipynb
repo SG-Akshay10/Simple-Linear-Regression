{
 "cells": [
  {
   "cell_type": "markdown",
   "id": "d448420e",
   "metadata": {},
   "source": [
    "# Simple Linear Regression"
   ]
  },
  {
   "cell_type": "markdown",
   "id": "bf4f509f",
   "metadata": {},
   "source": [
    "### Importing Packages"
   ]
  },
  {
   "cell_type": "code",
   "execution_count": 28,
   "id": "45e4783e",
   "metadata": {},
   "outputs": [],
   "source": [
    "import numpy as np\n",
    "import pandas as pd\n",
    "import seaborn as sns\n",
    "import matplotlib.pyplot as plt"
   ]
  },
  {
   "cell_type": "code",
   "execution_count": 29,
   "id": "99b5f193",
   "metadata": {},
   "outputs": [],
   "source": [
    "# plt - alteration\n",
    "import warnings\n",
    "pd.set_option('display.max_columns', None)\n",
    "warnings.filterwarnings('ignore')\n",
    "\n",
    "# warnings\n",
    "plt.rcParams['font.size'] =14\n",
    "plt.rcParams['font.weight']= 'bold'\n",
    "plt.style.use('seaborn-whitegrid')"
   ]
  },
  {
   "cell_type": "markdown",
   "id": "0ba0e1c3",
   "metadata": {},
   "source": [
    "### Importing Dataset"
   ]
  },
  {
   "cell_type": "code",
   "execution_count": 30,
   "id": "34cae23b",
   "metadata": {},
   "outputs": [
    {
     "data": {
      "text/html": [
       "<div>\n",
       "<style scoped>\n",
       "    .dataframe tbody tr th:only-of-type {\n",
       "        vertical-align: middle;\n",
       "    }\n",
       "\n",
       "    .dataframe tbody tr th {\n",
       "        vertical-align: top;\n",
       "    }\n",
       "\n",
       "    .dataframe thead th {\n",
       "        text-align: right;\n",
       "    }\n",
       "</style>\n",
       "<table border=\"1\" class=\"dataframe\">\n",
       "  <thead>\n",
       "    <tr style=\"text-align: right;\">\n",
       "      <th></th>\n",
       "      <th>x</th>\n",
       "      <th>y</th>\n",
       "    </tr>\n",
       "  </thead>\n",
       "  <tbody>\n",
       "    <tr>\n",
       "      <th>0</th>\n",
       "      <td>17</td>\n",
       "      <td>94</td>\n",
       "    </tr>\n",
       "    <tr>\n",
       "      <th>1</th>\n",
       "      <td>13</td>\n",
       "      <td>73</td>\n",
       "    </tr>\n",
       "    <tr>\n",
       "      <th>2</th>\n",
       "      <td>12</td>\n",
       "      <td>59</td>\n",
       "    </tr>\n",
       "    <tr>\n",
       "      <th>3</th>\n",
       "      <td>15</td>\n",
       "      <td>80</td>\n",
       "    </tr>\n",
       "    <tr>\n",
       "      <th>4</th>\n",
       "      <td>16</td>\n",
       "      <td>93</td>\n",
       "    </tr>\n",
       "  </tbody>\n",
       "</table>\n",
       "</div>"
      ],
      "text/plain": [
       "    x   y\n",
       "0  17  94\n",
       "1  13  73\n",
       "2  12  59\n",
       "3  15  80\n",
       "4  16  93"
      ]
     },
     "execution_count": 30,
     "metadata": {},
     "output_type": "execute_result"
    }
   ],
   "source": [
    "df = pd.read_csv(\"data1.csv\")\n",
    "df.head()"
   ]
  },
  {
   "cell_type": "markdown",
   "id": "4ba0eebf",
   "metadata": {},
   "source": [
    "## Data Analysis"
   ]
  },
  {
   "cell_type": "code",
   "execution_count": 31,
   "id": "3a6ce360",
   "metadata": {},
   "outputs": [
    {
     "name": "stdout",
     "output_type": "stream",
     "text": [
      "Number of records : 120\n",
      "Number of column : 2\n"
     ]
    }
   ],
   "source": [
    "print(f\"Number of records : {df.shape[0]}\")\n",
    "print(f\"Number of column : {df.shape[1]}\")"
   ]
  },
  {
   "cell_type": "code",
   "execution_count": 32,
   "id": "3a3bf0f9",
   "metadata": {},
   "outputs": [
    {
     "name": "stdout",
     "output_type": "stream",
     "text": [
      "<class 'pandas.core.frame.DataFrame'>\n",
      "RangeIndex: 120 entries, 0 to 119\n",
      "Data columns (total 2 columns):\n",
      " #   Column  Non-Null Count  Dtype\n",
      "---  ------  --------------  -----\n",
      " 0   x       120 non-null    int64\n",
      " 1   y       120 non-null    int64\n",
      "dtypes: int64(2)\n",
      "memory usage: 2.0 KB\n"
     ]
    }
   ],
   "source": [
    "df.info()"
   ]
  },
  {
   "cell_type": "code",
   "execution_count": 33,
   "id": "d78f336e",
   "metadata": {},
   "outputs": [
    {
     "data": {
      "text/html": [
       "<div>\n",
       "<style scoped>\n",
       "    .dataframe tbody tr th:only-of-type {\n",
       "        vertical-align: middle;\n",
       "    }\n",
       "\n",
       "    .dataframe tbody tr th {\n",
       "        vertical-align: top;\n",
       "    }\n",
       "\n",
       "    .dataframe thead th {\n",
       "        text-align: right;\n",
       "    }\n",
       "</style>\n",
       "<table border=\"1\" class=\"dataframe\">\n",
       "  <thead>\n",
       "    <tr style=\"text-align: right;\">\n",
       "      <th></th>\n",
       "      <th>x</th>\n",
       "      <th>y</th>\n",
       "    </tr>\n",
       "  </thead>\n",
       "  <tbody>\n",
       "    <tr>\n",
       "      <th>count</th>\n",
       "      <td>120.00000</td>\n",
       "      <td>120.000000</td>\n",
       "    </tr>\n",
       "    <tr>\n",
       "      <th>mean</th>\n",
       "      <td>15.60000</td>\n",
       "      <td>79.700000</td>\n",
       "    </tr>\n",
       "    <tr>\n",
       "      <th>std</th>\n",
       "      <td>2.06776</td>\n",
       "      <td>11.028306</td>\n",
       "    </tr>\n",
       "    <tr>\n",
       "      <th>min</th>\n",
       "      <td>12.00000</td>\n",
       "      <td>59.000000</td>\n",
       "    </tr>\n",
       "    <tr>\n",
       "      <th>25%</th>\n",
       "      <td>14.00000</td>\n",
       "      <td>73.000000</td>\n",
       "    </tr>\n",
       "    <tr>\n",
       "      <th>50%</th>\n",
       "      <td>16.00000</td>\n",
       "      <td>79.500000</td>\n",
       "    </tr>\n",
       "    <tr>\n",
       "      <th>75%</th>\n",
       "      <td>17.00000</td>\n",
       "      <td>91.000000</td>\n",
       "    </tr>\n",
       "    <tr>\n",
       "      <th>max</th>\n",
       "      <td>19.00000</td>\n",
       "      <td>94.000000</td>\n",
       "    </tr>\n",
       "  </tbody>\n",
       "</table>\n",
       "</div>"
      ],
      "text/plain": [
       "               x           y\n",
       "count  120.00000  120.000000\n",
       "mean    15.60000   79.700000\n",
       "std      2.06776   11.028306\n",
       "min     12.00000   59.000000\n",
       "25%     14.00000   73.000000\n",
       "50%     16.00000   79.500000\n",
       "75%     17.00000   91.000000\n",
       "max     19.00000   94.000000"
      ]
     },
     "execution_count": 33,
     "metadata": {},
     "output_type": "execute_result"
    }
   ],
   "source": [
    "df.describe()"
   ]
  },
  {
   "cell_type": "code",
   "execution_count": 34,
   "id": "6035e08d",
   "metadata": {},
   "outputs": [
    {
     "data": {
      "text/plain": [
       "<AxesSubplot:>"
      ]
     },
     "execution_count": 34,
     "metadata": {},
     "output_type": "execute_result"
    },
    {
     "data": {
      "image/png": "[encoded data removed]",
      "text/plain": [
       "<Figure size 640x480 with 2 Axes>"
      ]
     },
     "metadata": {},
     "output_type": "display_data"
    }
   ],
   "source": [
    "sns.heatmap(df.corr(),annot=True,cmap='cool')"
   ]
  },
  {
   "cell_type": "code",
   "execution_count": 35,
   "id": "42bd2e76",
   "metadata": {},
   "outputs": [
    {
     "data": {
      "text/plain": [
       "Text(0.5, 1.0, 'Distribution of y Axis')"
      ]
     },
     "execution_count": 35,
     "metadata": {},
     "output_type": "execute_result"
    },
    {
     "data": {
      "image/png": "[encoded data removed]",
      "text/plain": [
       "<Figure size 2000x500 with 2 Axes>"
      ]
     },
     "metadata": {},
     "output_type": "display_data"
    }
   ],
   "source": [
    "fig,(ax1,ax2) = plt.subplots(1,2,figsize=(20,5))\n",
    "sns.distplot(df['x'],color='r',ax=ax1)\n",
    "ax1.set_title('Distribution of X Axis')\n",
    "sns.distplot(df['y'],color='b',ax=ax2)\n",
    "ax1.set_title('Distribution of y Axis')"
   ]
  },
  {
   "cell_type": "markdown",
   "id": "7c2e4251",
   "metadata": {},
   "source": [
    "# Simple Linear Regression\n",
    "### y = m * x + c\n",
    "#### m = slope\n",
    "#### c = intercept"
   ]
  },
  {
   "cell_type": "markdown",
   "id": "0340b7e8",
   "metadata": {},
   "source": [
    "### Train Test Split"
   ]
  },
  {
   "cell_type": "code",
   "execution_count": 36,
   "id": "c4b3e2ab",
   "metadata": {},
   "outputs": [],
   "source": [
    "shuffle = df.sample(frac=1)\n",
    "train_size = int(0.7* len(df))\n",
    "train = shuffle[:train_size]\n",
    "test = shuffle[train_size:]"
   ]
  },
  {
   "cell_type": "code",
   "execution_count": 37,
   "id": "52993770",
   "metadata": {},
   "outputs": [
    {
     "name": "stdout",
     "output_type": "stream",
     "text": [
      "Shape of training data: (84, 2)\n",
      "Shape of test data : (36, 2)\n"
     ]
    }
   ],
   "source": [
    "print(f\"Shape of training data: {train.shape}\")\n",
    "print(f\"Shape of test data : {test.shape}\")"
   ]
  },
  {
   "cell_type": "code",
   "execution_count": 38,
   "id": "4109047c",
   "metadata": {},
   "outputs": [],
   "source": [
    "x_train = train['x']\n",
    "y_train = train['y']\n",
    "x_test  = train['x']\n",
    "y_test  = train['y']"
   ]
  },
  {
   "cell_type": "markdown",
   "id": "53eb63cf",
   "metadata": {},
   "source": [
    "### Simple Linear Model"
   ]
  },
  {
   "cell_type": "code",
   "execution_count": 39,
   "id": "6922db66",
   "metadata": {},
   "outputs": [],
   "source": [
    "def SimpleRegressionModel(x_train,y_train):\n",
    "    N = len(x_train)\n",
    "    numerator = 0\n",
    "    denominator = 0\n",
    "    \n",
    "    x_mean = x_train.mean()\n",
    "    y_mean = y_train.mean()\n",
    "    \n",
    "    s_yixi   = (y_train * x_train).sum()\n",
    "    yixi_Byn = (y_train.sum() * x_train.sum())/N\n",
    "    \n",
    "    s_xixi = (x_train * x_train).sum()\n",
    "    xixi_Byn = (x_train.sum() * x_train.sum())/N\n",
    "    \n",
    "    slope = (s_yixi - yixi_Byn)/(s_xixi - xixi_Byn)\n",
    "    \n",
    "    intercept = y_mean - (slope * x_mean)\n",
    "    \n",
    "    return (slope,intercept)"
   ]
  },
  {
   "cell_type": "code",
   "execution_count": 40,
   "id": "a4793d31",
   "metadata": {},
   "outputs": [
    {
     "name": "stdout",
     "output_type": "stream",
     "text": [
      "m = 2.876144680550152 \n",
      "c = 35.17986069370296\n",
      "Equation of Best Fit :\n",
      " y = 2.876144680550152 * x + 35.17986069370296\n"
     ]
    }
   ],
   "source": [
    "m,c = SimpleRegressionModel(x_train,y_train)\n",
    "print (f'm = {m} \\nc = {c}')\n",
    "print(f\"Equation of Best Fit :\\n y = {m} * x + {c}\")"
   ]
  },
  {
   "cell_type": "code",
   "execution_count": 41,
   "id": "24768371",
   "metadata": {},
   "outputs": [
    {
     "data": {
      "text/plain": [
       "Text(0, 0.5, 'Y')"
      ]
     },
     "execution_count": 41,
     "metadata": {},
     "output_type": "execute_result"
    },
    {
     "data": {
      "image/png": "[encoded data removed]",
      "text/plain": [
       "<Figure size 640x480 with 1 Axes>"
      ]
     },
     "metadata": {},
     "output_type": "display_data"
    }
   ],
   "source": [
    "plt.scatter(x_train,y_train,color=\"red\")\n",
    "plt.plot(x_train,m*x_train+c)\n",
    "plt.xlabel('X')\n",
    "plt.ylabel('Y')"
   ]
  },
  {
   "cell_type": "markdown",
   "id": "1b2c7dda",
   "metadata": {},
   "source": [
    "### Model Prediction"
   ]
  },
  {
   "cell_type": "code",
   "execution_count": 42,
   "id": "48a1bfb2",
   "metadata": {},
   "outputs": [],
   "source": [
    "def prediction(x_train,slope,intercept):\n",
    "    predict = x_train * slope + intercept\n",
    "    return predict"
   ]
  },
  {
   "cell_type": "code",
   "execution_count": 43,
   "id": "7f374cff",
   "metadata": {
    "scrolled": true
   },
   "outputs": [
    {
     "data": {
      "text/plain": [
       "98     86.950465\n",
       "101    72.569742\n",
       "109    89.826610\n",
       "71     72.569742\n",
       "37     81.198176\n",
       "Name: x, dtype: float64"
      ]
     },
     "execution_count": 43,
     "metadata": {},
     "output_type": "execute_result"
    }
   ],
   "source": [
    "y_pred = prediction(x_test,m,c)\n",
    "y_pred[:5]"
   ]
  },
  {
   "cell_type": "code",
   "execution_count": 44,
   "id": "1830261c",
   "metadata": {},
   "outputs": [
    {
     "data": {
      "text/plain": [
       "98     77\n",
       "101    73\n",
       "109    91\n",
       "71     73\n",
       "37     79\n",
       "Name: y, dtype: int64"
      ]
     },
     "execution_count": 44,
     "metadata": {},
     "output_type": "execute_result"
    }
   ],
   "source": [
    "y_test[:5]"
   ]
  },
  {
   "cell_type": "code",
   "execution_count": 45,
   "id": "d03b5a56",
   "metadata": {},
   "outputs": [
    {
     "data": {
      "text/html": [
       "<div>\n",
       "<style scoped>\n",
       "    .dataframe tbody tr th:only-of-type {\n",
       "        vertical-align: middle;\n",
       "    }\n",
       "\n",
       "    .dataframe tbody tr th {\n",
       "        vertical-align: top;\n",
       "    }\n",
       "\n",
       "    .dataframe thead th {\n",
       "        text-align: right;\n",
       "    }\n",
       "</style>\n",
       "<table border=\"1\" class=\"dataframe\">\n",
       "  <thead>\n",
       "    <tr style=\"text-align: right;\">\n",
       "      <th></th>\n",
       "      <th>y</th>\n",
       "      <th>x</th>\n",
       "    </tr>\n",
       "  </thead>\n",
       "  <tbody>\n",
       "    <tr>\n",
       "      <th>98</th>\n",
       "      <td>77</td>\n",
       "      <td>86.950465</td>\n",
       "    </tr>\n",
       "    <tr>\n",
       "      <th>101</th>\n",
       "      <td>73</td>\n",
       "      <td>72.569742</td>\n",
       "    </tr>\n",
       "    <tr>\n",
       "      <th>109</th>\n",
       "      <td>91</td>\n",
       "      <td>89.826610</td>\n",
       "    </tr>\n",
       "    <tr>\n",
       "      <th>71</th>\n",
       "      <td>73</td>\n",
       "      <td>72.569742</td>\n",
       "    </tr>\n",
       "    <tr>\n",
       "      <th>37</th>\n",
       "      <td>79</td>\n",
       "      <td>81.198176</td>\n",
       "    </tr>\n",
       "    <tr>\n",
       "      <th>...</th>\n",
       "      <td>...</td>\n",
       "      <td>...</td>\n",
       "    </tr>\n",
       "    <tr>\n",
       "      <th>26</th>\n",
       "      <td>66</td>\n",
       "      <td>81.198176</td>\n",
       "    </tr>\n",
       "    <tr>\n",
       "      <th>118</th>\n",
       "      <td>77</td>\n",
       "      <td>86.950465</td>\n",
       "    </tr>\n",
       "    <tr>\n",
       "      <th>72</th>\n",
       "      <td>59</td>\n",
       "      <td>69.693597</td>\n",
       "    </tr>\n",
       "    <tr>\n",
       "      <th>80</th>\n",
       "      <td>94</td>\n",
       "      <td>84.074320</td>\n",
       "    </tr>\n",
       "    <tr>\n",
       "      <th>33</th>\n",
       "      <td>80</td>\n",
       "      <td>78.322031</td>\n",
       "    </tr>\n",
       "  </tbody>\n",
       "</table>\n",
       "<p>84 rows × 2 columns</p>\n",
       "</div>"
      ],
      "text/plain": [
       "      y          x\n",
       "98   77  86.950465\n",
       "101  73  72.569742\n",
       "109  91  89.826610\n",
       "71   73  72.569742\n",
       "37   79  81.198176\n",
       "..   ..        ...\n",
       "26   66  81.198176\n",
       "118  77  86.950465\n",
       "72   59  69.693597\n",
       "80   94  84.074320\n",
       "33   80  78.322031\n",
       "\n",
       "[84 rows x 2 columns]"
      ]
     },
     "execution_count": 45,
     "metadata": {},
     "output_type": "execute_result"
    }
   ],
   "source": [
    "test = y_test\n",
    "pred = y_pred\n",
    "test = pd.DataFrame(test)\n",
    "pred = pd.DataFrame(pred)\n",
    "df1 = pd.concat([test, pred], axis=1)\n",
    "df1"
   ]
  },
  {
   "cell_type": "markdown",
   "id": "92f50557",
   "metadata": {},
   "source": [
    "## Residual Sum of Squares"
   ]
  },
  {
   "cell_type": "code",
   "execution_count": 46,
   "id": "b91b4b7f",
   "metadata": {},
   "outputs": [],
   "source": [
    "def rss(y_test,y_pred):\n",
    "    residual = y_test - y_pred\n",
    "    rss = (residual * residual).sum()\n",
    "    return rss"
   ]
  },
  {
   "cell_type": "code",
   "execution_count": 47,
   "id": "29f9afda",
   "metadata": {},
   "outputs": [
    {
     "data": {
      "text/plain": [
       "6255.537319237705"
      ]
     },
     "execution_count": 47,
     "metadata": {},
     "output_type": "execute_result"
    }
   ],
   "source": [
    "rss(y_test,y_pred)"
   ]
  },
  {
   "cell_type": "markdown",
   "id": "637531fb",
   "metadata": {},
   "source": [
    "#### R - Squared"
   ]
  },
  {
   "cell_type": "code",
   "execution_count": 48,
   "id": "fa936702",
   "metadata": {},
   "outputs": [],
   "source": [
    "def r_square(y_test,y_pred):\n",
    "    residual = y_test - y_pred\n",
    "    rss = (residual * residual).sum()\n",
    "    rest = y_test - y_test.mean()\n",
    "    tot = (rest*rest).sum() \n",
    "    return (1 - rss/tot)"
   ]
  },
  {
   "cell_type": "code",
   "execution_count": 49,
   "id": "d070e044",
   "metadata": {},
   "outputs": [
    {
     "data": {
      "text/plain": [
       "0.30807774428126544"
      ]
     },
     "execution_count": 49,
     "metadata": {},
     "output_type": "execute_result"
    }
   ],
   "source": [
    "r_square(y_test,y_pred)"
   ]
  },
  {
   "cell_type": "markdown",
   "id": "81ffdd51",
   "metadata": {},
   "source": [
    "#### Mean Absolute Error and Mean Absolute Percentage Error"
   ]
  },
  {
   "cell_type": "code",
   "execution_count": 50,
   "id": "aa97abc6",
   "metadata": {},
   "outputs": [],
   "source": [
    "def Mean_Absolute_Error(y_test,y_pred):\n",
    "    var = (y_test - y_pred).abs().sum()\n",
    "    MAE = var/len(y_test)\n",
    "    return MAE"
   ]
  },
  {
   "cell_type": "code",
   "execution_count": 51,
   "id": "11b5eca9",
   "metadata": {},
   "outputs": [
    {
     "data": {
      "text/plain": [
       "6.896163436558727"
      ]
     },
     "execution_count": 51,
     "metadata": {},
     "output_type": "execute_result"
    }
   ],
   "source": [
    "Mean_Absolute_Error(y_test,y_pred)"
   ]
  },
  {
   "cell_type": "code",
   "execution_count": 52,
   "id": "80c7650d",
   "metadata": {},
   "outputs": [],
   "source": [
    "def Mean_Absolute_Percentage_Error(y_test,y_pred):\n",
    "    var = ((y_test - y_pred)/y_test).abs().sum()\n",
    "    MAPE = var/len(y_test)*100\n",
    "    return MAPE"
   ]
  },
  {
   "cell_type": "code",
   "execution_count": 53,
   "id": "31f69ce3",
   "metadata": {},
   "outputs": [
    {
     "data": {
      "text/plain": [
       "8.908795224331866"
      ]
     },
     "execution_count": 53,
     "metadata": {},
     "output_type": "execute_result"
    }
   ],
   "source": [
    "Mean_Absolute_Percentage_Error(y_test,y_pred)"
   ]
  },
  {
   "cell_type": "markdown",
   "id": "a76653c2",
   "metadata": {},
   "source": [
    "### Model Evaluation "
   ]
  },
  {
   "cell_type": "code",
   "execution_count": 54,
   "id": "fceb9d5c",
   "metadata": {},
   "outputs": [
    {
     "data": {
      "text/html": [
       "<div>\n",
       "<style scoped>\n",
       "    .dataframe tbody tr th:only-of-type {\n",
       "        vertical-align: middle;\n",
       "    }\n",
       "\n",
       "    .dataframe tbody tr th {\n",
       "        vertical-align: top;\n",
       "    }\n",
       "\n",
       "    .dataframe thead th {\n",
       "        text-align: right;\n",
       "    }\n",
       "</style>\n",
       "<table border=\"1\" class=\"dataframe\">\n",
       "  <thead>\n",
       "    <tr style=\"text-align: right;\">\n",
       "      <th></th>\n",
       "      <th>Mean_Absolute_Percentage_Error</th>\n",
       "      <th>Mean_Absolute_Error</th>\n",
       "      <th>R_Squared</th>\n",
       "      <th>residual_sum_of_squares</th>\n",
       "    </tr>\n",
       "  </thead>\n",
       "  <tbody>\n",
       "    <tr>\n",
       "      <th>Values</th>\n",
       "      <td>8.908795</td>\n",
       "      <td>6.896163</td>\n",
       "      <td>0.308078</td>\n",
       "      <td>6255.537319</td>\n",
       "    </tr>\n",
       "  </tbody>\n",
       "</table>\n",
       "</div>"
      ],
      "text/plain": [
       "        Mean_Absolute_Percentage_Error  Mean_Absolute_Error  R_Squared  \\\n",
       "Values                        8.908795             6.896163   0.308078   \n",
       "\n",
       "        residual_sum_of_squares  \n",
       "Values              6255.537319  "
      ]
     },
     "execution_count": 54,
     "metadata": {},
     "output_type": "execute_result"
    }
   ],
   "source": [
    "m_per_dict = {'Mean_Absolute_Percentage_Error':Mean_Absolute_Percentage_Error(y_test,y_pred),\"Mean_Absolute_Error\":Mean_Absolute_Error(y_test,y_pred),\"R_Squared\":r_square(y_test,y_pred),\"residual_sum_of_squares\":rss(y_test,y_pred)}\n",
    "model_performance = pd.DataFrame(m_per_dict,index=['Values'])\n",
    "model_performance"
   ]
  }
 ],
 "metadata": {
  "kernelspec": {
   "display_name": "Python 3 (ipykernel)",
   "language": "python",
   "name": "python3"
  },
  "language_info": {
   "codemirror_mode": {
    "name": "ipython",
    "version": 3
   },
   "file_extension": ".py",
   "mimetype": "text/x-python",
   "name": "python",
   "nbconvert_exporter": "python",
   "pygments_lexer": "ipython3",
   "version": "3.9.13"
  }
 },
 "nbformat": 4,
 "nbformat_minor": 5
}
